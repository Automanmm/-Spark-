{
 "cells": [
  {
   "cell_type": "markdown",
   "metadata": {},
   "source": [
    "## 1.数据集介绍\n",
    "用户收听曲目信息表：track.csv\n",
    "\n",
    "数据集大小：100万；\n",
    "用户数：5000；\n",
    "不重复音乐数：1700；\n",
    "用户-音乐记录数：851475\n",
    "<table>\n",
    "  <tr>\n",
    "    <th><strong>Field Name</strong></th>\n",
    "    <th>Event ID</th>\n",
    "    <th>Customer ID</th>\n",
    "    <th>Track ID</th>\n",
    "    <th>Datetime</th>\n",
    "    <th>Mobile</th>\n",
    "    <th>Listening Zip</th>\n",
    "  </tr>\n",
    "  <tr>\n",
    "    <td><strong>Type</strong></td>\n",
    "    <td>Integer</td>\n",
    "    <td>Integer</td>\n",
    "    <td>Integer</td>\n",
    "    <td>String</td>\n",
    "    <td>Integer</td>\n",
    "    <td>Integer</td>\n",
    "  </tr>\n",
    "  <tr>\n",
    "    <td><strong>Example Value</strong></td>\n",
    "    <td>9999767</td>\n",
    "    <td>2597</td>\n",
    "    <td>788</td>\n",
    "    <td>2014-12-01 09:54:09</td>\n",
    "    <td>0</td>\n",
    "    <td>11003</td>\n",
    "  </tr>\n",
    "</table>"
   ]
  },
  {
   "cell_type": "markdown",
   "metadata": {},
   "source": [
    "## 2.导入相关python包"
   ]
  },
  {
   "cell_type": "code",
   "execution_count": 1,
   "metadata": {},
   "outputs": [],
   "source": [
    "# 相关模块导入\n",
    "import os\n",
    "import pandas as pd\n",
    "import numpy as np\n",
    "\n",
    "from pyspark import SparkConf, SparkContext\n",
    "from pyspark.sql import SparkSession, SQLContext\n",
    "from pyspark.sql.types import *\n",
    "from pyspark.sql.functions import col\n",
    "\n",
    "from pyspark.mllib.recommendation import ALS, Rating, MatrixFactorizationModel\n",
    "from pyspark.mllib.evaluation import RegressionMetrics"
   ]
  },
  {
   "cell_type": "markdown",
   "metadata": {},
   "source": [
    "## 3.创建Spark会话，并加载数据"
   ]
  },
  {
   "cell_type": "code",
   "execution_count": 2,
   "metadata": {},
   "outputs": [],
   "source": [
    "# 构建SparkSession实例对象\n",
    "spark = SparkSession.builder.master(\"local\")\\\n",
    "        .appName(\"music-customer-analysis-with-pyspark\").getOrCreate()\n",
    "\n",
    "# 获取SparkContext实例对象\n",
    "sc = spark.sparkContext"
   ]
  },
  {
   "cell_type": "code",
   "execution_count": 3,
   "metadata": {},
   "outputs": [],
   "source": [
    "# 创建数据模式，加载数据\n",
    "music_schema = StructType([\n",
    "    StructField('event_id', IntegerType(), nullable=True),\n",
    "    StructField('customer_id', IntegerType(), nullable=True),\n",
    "    StructField('track_id', IntegerType(), nullable=True),\n",
    "    StructField('datetime', StringType(), nullable=True),\n",
    "    StructField('is_mobile', IntegerType(), nullable=True),\n",
    "    StructField('zip', IntegerType(), nullable=True)\n",
    "])\n",
    "music_df = spark.read.csv('data/tracks.csv', schema=music_schema, header=False)\n",
    "music_df.createOrReplaceTempView(\"music\")\n",
    "music_df.registerTempTable(\"music\")"
   ]
  },
  {
   "cell_type": "markdown",
   "metadata": {},
   "source": [
    "## 4.数据观察"
   ]
  },
  {
   "cell_type": "code",
   "execution_count": 4,
   "metadata": {},
   "outputs": [
    {
     "name": "stdout",
     "output_type": "stream",
     "text": [
      "1000000\n",
      "+--------+-----------+--------+-------------------+---------+-----+\n",
      "|event_id|customer_id|track_id|           datetime|is_mobile|  zip|\n",
      "+--------+-----------+--------+-------------------+---------+-----+\n",
      "|       0|         48|     453|2014-10-23 03:26:20|        0|72132|\n",
      "|       1|       1081|      19|2014-10-15 18:32:14|        1|17307|\n",
      "|       2|        532|      36|2014-12-10 15:33:16|        1|66216|\n",
      "|       3|       2641|     822|2014-10-20 02:24:55|        1|36690|\n",
      "|       4|       2251|     338|2014-11-18 07:16:05|        1|61377|\n",
      "+--------+-----------+--------+-------------------+---------+-----+\n",
      "only showing top 5 rows\n",
      "\n"
     ]
    }
   ],
   "source": [
    "print(music_df.count())\n",
    "music_df.show(5)"
   ]
  },
  {
   "cell_type": "markdown",
   "metadata": {},
   "source": [
    "## 5.数据预处理：获取输入数据集结构（用户，音乐，收听次数）三元组"
   ]
  },
  {
   "cell_type": "code",
   "execution_count": 5,
   "metadata": {},
   "outputs": [
    {
     "name": "stdout",
     "output_type": "stream",
     "text": [
      "+-----------+--------+------+\n",
      "|customer_id|track_id|rating|\n",
      "+-----------+--------+------+\n",
      "|          0|       0|    93|\n",
      "|          0|       1|    55|\n",
      "|          0|       2|    53|\n",
      "|          0|       4|    45|\n",
      "|          0|       3|    41|\n",
      "|          0|       5|    39|\n",
      "|          0|       6|    31|\n",
      "|          0|       8|    31|\n",
      "+-----------+--------+------+\n",
      "only showing top 8 rows\n",
      "\n"
     ]
    }
   ],
   "source": [
    "spark.sql(\"select customer_id, track_id, count(*) as rating from music \\\n",
    "           group by customer_id, track_id \\\n",
    "           order by customer_id, count(*) desc\").show(8)"
   ]
  },
  {
   "cell_type": "markdown",
   "metadata": {},
   "source": [
    "## 6.函数定义：模型训练函数和评估函数"
   ]
  },
  {
   "cell_type": "code",
   "execution_count": 6,
   "metadata": {},
   "outputs": [],
   "source": [
    "# 定义函数，训练模型与模型评估\n",
    "def train_model_evaluate(training_rdd, testing_rdd, rank, iterations, lambda_):\n",
    "    # 使用超参数的值，训练数据和ALS算法训练模型\n",
    "    model = ALS.train(training_rdd, rank, iterations, lambda_)\n",
    "\n",
    "    # 模型的评估\n",
    "    print('rank=%d, iterations=%d, lambda_=%f' % (rank, iterations, lambda_))\n",
    "    rmse_value = alsModelEvaluate(model, testing_rdd)\n",
    "\n",
    "    # 返回多元组\n",
    "    return (model, rmse_value, rank, iterations, lambda_)"
   ]
  },
  {
   "cell_type": "code",
   "execution_count": 7,
   "metadata": {},
   "outputs": [],
   "source": [
    "# 模型评估函数\n",
    "def alsModelEvaluate(model, testing_rdd):\n",
    "    # 针对测试数据集进行预测\n",
    "    predict_rdd = model.predictAll(testing_rdd.map(lambda r: (r[0], r[1])))\n",
    "    predict_actual_rdd = predict_rdd.map(lambda r: ((r[0], r[1]), r[2])) \\\n",
    "        .join(testing_rdd.map(lambda r: ((r[0], r[1]), r[2])))\n",
    "\n",
    "    # 创建评估指标实例对象\n",
    "    metrics = RegressionMetrics(predict_actual_rdd.map(lambda pr: pr[1]))\n",
    "    print(\"MSE = %s\" % metrics.meanSquaredError)\n",
    "    print(\"RMSE = %s\" % metrics.rootMeanSquaredError)\n",
    "\n",
    "    # 返回均方根误差\n",
    "    return metrics.rootMeanSquaredError"
   ]
  },
  {
   "cell_type": "markdown",
   "metadata": {},
   "source": [
    "## 7.模型训练：超参数选择，最优模型"
   ]
  },
  {
   "cell_type": "code",
   "execution_count": 8,
   "metadata": {
    "scrolled": false
   },
   "outputs": [
    {
     "name": "stdout",
     "output_type": "stream",
     "text": [
      "rank=10, iterations=10, lambda_=0.010000\n",
      "MSE = 0.28716683662293263\n",
      "RMSE = 0.5358794982297164\n",
      "rank=10, iterations=20, lambda_=0.010000\n",
      "MSE = 0.28757172413183685\n",
      "RMSE = 0.5362571436650861\n",
      "rank=20, iterations=10, lambda_=0.010000\n",
      "MSE = 0.29285678025140727\n",
      "RMSE = 0.5411624342574115\n",
      "rank=20, iterations=20, lambda_=0.010000\n",
      "MSE = 0.29403526408964\n",
      "RMSE = 0.5422501858825315\n",
      "The best parameters, rank=10, iterations=10, lambda_=0.01\n"
     ]
    }
   ],
   "source": [
    "# 训练模型，并选择评估结果最好的模型\n",
    "rawRatings = spark.sql(\"select customer_id, track_id, count(*) as rating from music \\\n",
    "           group by customer_id, track_id \\\n",
    "           order by customer_id, count(*) desc\").rdd\n",
    "ratings = rawRatings.map(lambda x: Rating(int(x[0]),int(x[1]),float(x[2])))\n",
    "(training, test) = ratings.randomSplit([0.8, 0.2])\n",
    "\n",
    "# ALS算法的超参数的调整（使用三层for循环，设置不同参数的值，分别使用ALS算法训练模型，评估获取RMSE的值）\n",
    "metrix_list = [train_model_evaluate(training, test, param_rank, param_iterations, param_lambda)\n",
    "               for param_rank in [10, 20]\n",
    "               for param_iterations in [10, 20]\n",
    "               for param_lambda in [0.01]]\n",
    "sorted(metrix_list, key=lambda k: k[1], reverse=False)\n",
    "model, rmse_value, rank, iterations, lambda_ = metrix_list[0]\n",
    "print(\"The best parameters, rank=%s, iterations=%s, lambda_=%s\" % (rank, iterations, lambda_))"
   ]
  },
  {
   "cell_type": "markdown",
   "metadata": {},
   "source": [
    "## 8.用户和物品的特征因子矩阵"
   ]
  },
  {
   "cell_type": "code",
   "execution_count": 9,
   "metadata": {},
   "outputs": [
    {
     "name": "stdout",
     "output_type": "stream",
     "text": [
      "(0, array('d', [-5.566326141357422, -1.6652482748031616, -3.4502928256988525, -2.164012908935547, 7.6700239181518555, -7.7029805183410645, -2.8192532062530518, -7.601554870605469, -0.21442097425460815, 1.1964198350906372]))\n",
      "(0, array('d', [0.053542573004961014, -1.1422486305236816, -0.12883080542087555, -2.3653976917266846, 1.4874904155731201, -3.776639699935913, 0.15738777816295624, -5.200829029083252, 1.451997995376587, -1.614256501197815]))\n"
     ]
    }
   ],
   "source": [
    "# 用户特征因子矩阵\n",
    "user_feature_matrix = model.userFeatures()\n",
    "print(user_feature_matrix.first())\n",
    "\n",
    "# 物品特征因子矩阵\n",
    "item_feature_matrix = model.productFeatures()\n",
    "print(item_feature_matrix.first())"
   ]
  },
  {
   "cell_type": "markdown",
   "metadata": {},
   "source": [
    "## 9.使用模型进行推荐\n",
    "### 9.1基于用户的推荐"
   ]
  },
  {
   "cell_type": "code",
   "execution_count": 10,
   "metadata": {},
   "outputs": [
    {
     "name": "stdout",
     "output_type": "stream",
     "text": [
      "给用户0推荐5个喜欢的音乐：\n",
      "Rating(user=0, product=0, rating=84.51582029704726)\n",
      "Rating(user=0, product=1, rating=52.18686044644898)\n",
      "Rating(user=0, product=2, rating=48.86769372137471)\n",
      "Rating(user=0, product=4, rating=41.34987181609816)\n",
      "Rating(user=0, product=3, rating=39.46888008305788)\n",
      "将音乐0推荐给5个喜欢它的用户：\n",
      "Rating(user=0, product=0, rating=84.51582029704726)\n",
      "Rating(user=4, product=0, rating=46.68360221697599)\n",
      "Rating(user=1, product=0, rating=45.45440158290519)\n",
      "Rating(user=3, product=0, rating=42.969510613587055)\n",
      "Rating(user=14, product=0, rating=32.78906027734245)\n",
      "给用户0推荐音乐0的评分为: 84.51582029704726\n"
     ]
    }
   ],
   "source": [
    "# 基于用户的推荐\n",
    "userId, itemId, recNum = 0, 0, 5\n",
    "\n",
    "# 为用户推荐音乐\n",
    "topKRecs = model.recommendProducts(userId, recNum)\n",
    "print('给用户%d推荐%d个喜欢的音乐：' % (userId, recNum))\n",
    "for rec in topKRecs:\n",
    "    print(rec)\n",
    "\n",
    "# 为音乐推荐用户\n",
    "topKRecs = model.recommendUsers(itemId, recNum)\n",
    "print('将音乐%d推荐给%d个喜欢它的用户：' % (itemId, recNum))\n",
    "for rec in topKRecs:\n",
    "    print(rec)\n",
    "\n",
    "# 预测某个用户对某个音乐的评分\n",
    "print('给用户%d推荐音乐%d的评分为:' % (userId, itemId), model.predict(userId, itemId))"
   ]
  },
  {
   "cell_type": "markdown",
   "metadata": {},
   "source": [
    "### 9.2基于物品的推荐"
   ]
  },
  {
   "cell_type": "code",
   "execution_count": 11,
   "metadata": {
    "scrolled": true
   },
   "outputs": [
    {
     "name": "stdout",
     "output_type": "stream",
     "text": [
      "与音乐0相似的前5个音乐是：\n",
      "(0, 1.0)\n",
      "(48, 0.676069769085381)\n",
      "(41, 0.6350276830270337)\n",
      "(29, 0.6289726465048315)\n",
      "(26, 0.6081736969039829)\n"
     ]
    }
   ],
   "source": [
    "# 基于物品的推荐\n",
    "def cosineSImilarity(x,y):\n",
    "    return np.dot(x,y)/(np.linalg.norm(x)*np.linalg.norm(y))\n",
    "\n",
    "itemId, recNum = 0, 5\n",
    "itemFactor = model.productFeatures().lookup(itemId)[0] \n",
    "\n",
    "#计算该商品与其他所有商品的余弦相似度\n",
    "sims = model.productFeatures().map(lambda line:\\\n",
    "       (line[0], cosineSImilarity(np.array(line[1]), np.array(itemFactor))))\n",
    "simItem = sims.sortBy(lambda line:line[1],ascending=False).collect()\n",
    "print('与音乐%d相似的前%d个音乐是：' % (itemId, recNum))\n",
    "for i in simItem[:recNum]:\n",
    "    print(i)"
   ]
  },
  {
   "cell_type": "markdown",
   "metadata": {},
   "source": [
    "## 10.模型保存与加载"
   ]
  },
  {
   "cell_type": "code",
   "execution_count": 13,
   "metadata": {},
   "outputs": [],
   "source": [
    "# 保存模型\n",
    "model.save(sc, \"model/als_model\")\n",
    "\n",
    "# 加载模型\n",
    "model = MatrixFactorizationModel.load(sc, \"model/als_model\")"
   ]
  }
 ],
 "metadata": {
  "kernelspec": {
   "display_name": "Python 3",
   "language": "python",
   "name": "python3"
  },
  "language_info": {
   "codemirror_mode": {
    "name": "ipython",
    "version": 3
   },
   "file_extension": ".py",
   "mimetype": "text/x-python",
   "name": "python",
   "nbconvert_exporter": "python",
   "pygments_lexer": "ipython3",
   "version": "3.5.2"
  }
 },
 "nbformat": 4,
 "nbformat_minor": 2
}
